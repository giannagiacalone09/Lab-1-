{
  "nbformat": 4,
  "nbformat_minor": 0,
  "metadata": {
    "colab": {
      "name": "January Can Be Snow Much Fun",
      "provenance": [],
      "authorship_tag": "ABX9TyO62byQMGqlbMEh+j8yVk5X",
      "include_colab_link": true
    },
    "kernelspec": {
      "name": "python3",
      "display_name": "Python 3"
    }
  },
  "cells": [
    {
      "cell_type": "markdown",
      "metadata": {
        "id": "view-in-github",
        "colab_type": "text"
      },
      "source": [
        "<a href=\"https://colab.research.google.com/github/giannagiacalone09/Lab-1-/blob/master/January_Can_Be_Snow_Much_Fun.ipynb\" target=\"_parent\"><img src=\"https://colab.research.google.com/assets/colab-badge.svg\" alt=\"Open In Colab\"/></a>"
      ]
    },
    {
      "cell_type": "markdown",
      "metadata": {
        "id": "QRH_cOwy59Ug",
        "colab_type": "text"
      },
      "source": [
        "#January Can Be Snow Much Fun"
      ]
    },
    {
      "cell_type": "markdown",
      "metadata": {
        "id": "FuEkSAbr7PNh",
        "colab_type": "text"
      },
      "source": [
        "#Introduction:"
      ]
    },
    {
      "cell_type": "markdown",
      "metadata": {
        "id": "63vl8M8J7GVc",
        "colab_type": "text"
      },
      "source": [
        "It is my prediction that the lower the temperature, the more snow fall there will be in the month of January. I believe this because the lower the temperature the colder the ground gets. With that being said, the colder the ground is the easier snow is held. This study data was observed for all months of the year. I used the subset of January to show a closer set of data. "
      ]
    },
    {
      "cell_type": "markdown",
      "metadata": {
        "id": "WB3VgV78BRZB",
        "colab_type": "text"
      },
      "source": [
        "#Sketch\n"
      ]
    },
    {
      "cell_type": "markdown",
      "metadata": {
        "id": "UMWcD2rZBV_C",
        "colab_type": "text"
      },
      "source": [
        "![graph](https://raw.githubusercontent.com/giannagiacalone09/Lab-1-/master/Images/GRAPH.png)"
      ]
    },
    {
      "cell_type": "markdown",
      "metadata": {
        "id": "fGPlwG6u6Yp3",
        "colab_type": "text"
      },
      "source": [
        "#Conclusion:\n"
      ]
    },
    {
      "cell_type": "markdown",
      "metadata": {
        "id": "qjX2odSh6a4v",
        "colab_type": "text"
      },
      "source": [
        "My conclusion was that even though January has some all time lows, it did not have an effect on how much snow fell. Not a lot og snow accumulated due to these low temperatures. Due to this data, I conclued that snow fall and temperature did not correlate during the month of January."
      ]
    }
  ]
}